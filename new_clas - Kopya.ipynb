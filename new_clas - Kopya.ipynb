{
 "cells": [
  {
   "cell_type": "code",
   "execution_count": 3,
   "metadata": {},
   "outputs": [],
   "source": [
    "import pandas as pd"
   ]
  },
  {
   "cell_type": "code",
   "execution_count": 4,
   "metadata": {},
   "outputs": [],
   "source": [
    "# Load the data using pandas\n",
    "df = pd.read_csv('dataset.csv')"
   ]
  },
  {
   "cell_type": "code",
   "execution_count": 5,
   "metadata": {},
   "outputs": [
    {
     "name": "stdout",
     "output_type": "stream",
     "text": [
      "Features shape = (499, 63)\n"
     ]
    }
   ],
   "source": [
    "# Extract the feature columns and target column\n",
    "X = df.iloc[:, :-1]\n",
    "print(\"Features shape =\", X.shape)"
   ]
  },
  {
   "cell_type": "code",
   "execution_count": 6,
   "metadata": {},
   "outputs": [
    {
     "name": "stdout",
     "output_type": "stream",
     "text": [
      "Labels shape = (499,)\n"
     ]
    }
   ],
   "source": [
    "y= df.iloc[:, -1]\n",
    "print(\"Labels shape =\", y.shape)\n",
    "# Extract the feature columns and target column\n",
    "X = df.iloc[:, :-1]\n",
    "print(\"Features shape =\", X.shape)"
   ]
  },
  {
   "attachments": {},
   "cell_type": "markdown",
   "metadata": {},
   "source": [
    "1-) K-Nearest Neighbors (KNN):"
   ]
  },
  {
   "cell_type": "code",
   "execution_count": 7,
   "metadata": {},
   "outputs": [],
   "source": [
    "from sklearn.neighbors import KNeighborsClassifier\n",
    "from sklearn.model_selection import train_test_split\n",
    "\n",
    "# Load the data\n",
    "# X, y = # load your data here\n",
    "\n",
    "# Split the data into training and testing sets\n",
    "X_train, X_test, y_train, y_test = train_test_split(X, y, test_size=0.2, random_state=42)\n",
    "\n",
    "# Initialize the KNN classifier\n",
    "knn = KNeighborsClassifier(n_neighbors=5)\n",
    "\n",
    "# Fit the classifier to the training data\n",
    "knn.fit(X_train, y_train)\n",
    "\n",
    "# Predict the labels for the test data\n",
    "y_pred = knn.predict(X_test)\n",
    "\n",
    "\n",
    "\n",
    "y= df.iloc[:, -1]\n",
    "print(\"Labels shape =\", y.shape)\n",
    "# Extract the feature columns and target column\n",
    "X = df.iloc[:, :-1]\n",
    "print(\"Features shape =\", X.shape)\n"
   ]
  },
  {
   "cell_type": "code",
   "execution_count": 8,
   "metadata": {},
   "outputs": [
    {
     "data": {
      "text/plain": [
       "array([5, 1, 3, 2, 3, 5, 2, 1, 4, 1, 2, 3, 4, 2, 2, 5, 5, 1, 2, 5, 4, 3,\n",
       "       5, 1, 1, 1, 4, 4, 1, 1, 5, 1, 2, 1, 4, 1, 3, 2, 5, 3, 2, 5, 1, 4,\n",
       "       1, 1, 4, 2, 1, 4, 3, 5, 4, 2, 1, 4, 5, 5, 4, 3, 5, 1, 5, 3, 3, 2,\n",
       "       4, 1, 5, 4, 5, 2, 1, 1, 5, 4, 3, 1, 1, 5, 4, 5, 2, 5, 4, 2, 4, 5,\n",
       "       2, 4, 4, 1, 1, 5, 1, 4, 4, 1, 4, 4], dtype=int64)"
      ]
     },
     "execution_count": 8,
     "metadata": {},
     "output_type": "execute_result"
    }
   ],
   "source": [
    "y_pred"
   ]
  },
  {
   "cell_type": "code",
   "execution_count": 9,
   "metadata": {},
   "outputs": [
    {
     "name": "stdout",
     "output_type": "stream",
     "text": [
      "[[27  0  0  0  0]\n",
      " [ 0 16  0  0  0]\n",
      " [ 0  0 11  5  0]\n",
      " [ 0  0  0 17  0]\n",
      " [ 0  0  0  2 22]]\n"
     ]
    }
   ],
   "source": [
    "from sklearn.metrics import confusion_matrix\n",
    "\n",
    "# Create the confusion matrix\n",
    "cnf_matrix = confusion_matrix(y_test, y_pred)\n",
    "print(cnf_matrix)\n"
   ]
  },
  {
   "cell_type": "code",
   "execution_count": 10,
   "metadata": {},
   "outputs": [
    {
     "data": {
      "image/png": "[encoded data removed]",
      "text/plain": [
       "<Figure size 640x480 with 2 Axes>"
      ]
     },
     "metadata": {},
     "output_type": "display_data"
    }
   ],
   "source": [
    "import seaborn as sns\n",
    "import matplotlib.pyplot as plt\n",
    "\n",
    "# Create the confusion matrix\n",
    "cnf_matrix = confusion_matrix(y_test, y_pred)\n",
    "\n",
    "# Visualize the confusion matrix using a heatmap\n",
    "sns.heatmap(cnf_matrix, annot=True, cmap='Blues', fmt='d')\n",
    "plt.ylabel('True label')\n",
    "plt.xlabel('Predicted label')\n",
    "plt.show()\n"
   ]
  },
  {
   "attachments": {},
   "cell_type": "markdown",
   "metadata": {},
   "source": [
    "2-) Support Vector Machines (SVM):"
   ]
  },
  {
   "cell_type": "code",
   "execution_count": 11,
   "metadata": {},
   "outputs": [],
   "source": [
    "from sklearn.svm import SVC\n",
    "from sklearn.model_selection import train_test_split\n",
    "\n",
    "# Load the data\n",
    "# X, y = # load your data here\n",
    "\n",
    "# Split the data into training and testing sets\n",
    "X1_train, X1_test, y1_train, y1_test = train_test_split(X, y, test_size=0.2, random_state=42)\n",
    "\n",
    "# Initialize the SVM classifier\n",
    "svm = SVC(kernel='linear', C=1)\n",
    "\n",
    "# Fit the classifier to the training data\n",
    "svm.fit(X1_train, y1_train)\n",
    "\n",
    "# Predict the labels for the test data\n",
    "y1_pred = svm.predict(X1_test)\n"
   ]
  },
  {
   "cell_type": "code",
   "execution_count": 12,
   "metadata": {},
   "outputs": [
    {
     "data": {
      "text/plain": [
       "array([5, 1, 3, 2, 3, 5, 2, 1, 4, 1, 2, 3, 4, 2, 2, 5, 5, 1, 2, 5, 4, 3,\n",
       "       5, 1, 1, 1, 4, 5, 1, 1, 5, 1, 2, 1, 4, 1, 3, 2, 5, 3, 2, 5, 1, 4,\n",
       "       1, 1, 4, 2, 1, 4, 3, 5, 4, 2, 1, 4, 5, 5, 5, 3, 5, 1, 5, 3, 3, 2,\n",
       "       4, 1, 5, 3, 5, 2, 1, 1, 5, 4, 3, 1, 1, 5, 4, 5, 2, 5, 4, 2, 4, 5,\n",
       "       2, 3, 4, 1, 1, 5, 1, 3, 4, 1, 4, 4], dtype=int64)"
      ]
     },
     "execution_count": 12,
     "metadata": {},
     "output_type": "execute_result"
    }
   ],
   "source": [
    "y1_pred"
   ]
  },
  {
   "cell_type": "code",
   "execution_count": 13,
   "metadata": {},
   "outputs": [
    {
     "data": {
      "image/png": "[encoded data removed]",
      "text/plain": [
       "<Figure size 640x480 with 2 Axes>"
      ]
     },
     "metadata": {},
     "output_type": "display_data"
    }
   ],
   "source": [
    "import seaborn as sns\n",
    "import matplotlib.pyplot as plt\n",
    "\n",
    "# Create the confusion matrix\n",
    "cnf_matrix = confusion_matrix(y1_test, y1_pred)\n",
    "\n",
    "# Visualize the confusion matrix using a heatmap\n",
    "sns.heatmap(cnf_matrix, annot=True, cmap='Blues', fmt='d')\n",
    "plt.ylabel('True label')\n",
    "plt.xlabel('Predicted label')\n",
    "plt.show()\n"
   ]
  },
  {
   "attachments": {},
   "cell_type": "markdown",
   "metadata": {},
   "source": [
    "3-) Naive Bayes"
   ]
  },
  {
   "cell_type": "code",
   "execution_count": 14,
   "metadata": {},
   "outputs": [],
   "source": [
    "from sklearn.naive_bayes import GaussianNB\n",
    "from sklearn.model_selection import train_test_split\n",
    "\n",
    "# Load the data\n",
    "# X, y = # load your data here\n",
    "\n",
    "# Split the data into training and testing sets\n",
    "X2_train, X2_test, y2_train, y2_test = train_test_split(X, y, test_size=0.2, random_state=42)\n",
    "\n",
    "# Initialize the Naive Bayes classifier\n",
    "nb = GaussianNB()\n",
    "\n",
    "# Fit the classifier to the training data\n",
    "nb.fit(X2_train, y2_train)\n",
    "\n",
    "# Predict the labels for the test data\n",
    "y2_pred = nb.predict(X2_test)\n"
   ]
  },
  {
   "cell_type": "code",
   "execution_count": 15,
   "metadata": {},
   "outputs": [
    {
     "data": {
      "text/plain": [
       "array([5, 1, 3, 2, 3, 5, 2, 1, 4, 1, 2, 3, 4, 2, 2, 5, 5, 1, 2, 5, 3, 3,\n",
       "       5, 1, 1, 1, 3, 3, 1, 1, 5, 1, 2, 1, 4, 1, 3, 2, 5, 3, 5, 5, 1, 4,\n",
       "       1, 1, 4, 2, 1, 4, 4, 5, 5, 2, 2, 3, 5, 5, 5, 3, 5, 1, 5, 3, 3, 2,\n",
       "       5, 1, 5, 5, 5, 2, 1, 1, 5, 3, 4, 1, 1, 5, 4, 5, 2, 5, 4, 2, 5, 4,\n",
       "       2, 4, 4, 1, 1, 5, 1, 4, 4, 4, 4, 4], dtype=int64)"
      ]
     },
     "execution_count": 15,
     "metadata": {},
     "output_type": "execute_result"
    }
   ],
   "source": [
    "y2_pred"
   ]
  },
  {
   "cell_type": "code",
   "execution_count": 16,
   "metadata": {},
   "outputs": [
    {
     "data": {
      "image/png": "[encoded data removed]",
      "text/plain": [
       "<Figure size 640x480 with 2 Axes>"
      ]
     },
     "metadata": {},
     "output_type": "display_data"
    }
   ],
   "source": [
    "import seaborn as sns\n",
    "import matplotlib.pyplot as plt\n",
    "\n",
    "# Create the confusion matrix\n",
    "cnf_matrix = confusion_matrix(y2_test, y2_pred)\n",
    "\n",
    "# Visualize the confusion matrix using a heatmap\n",
    "sns.heatmap(cnf_matrix, annot=True, cmap='Blues', fmt='d')\n",
    "plt.ylabel('True label')\n",
    "plt.xlabel('Predicted label')\n",
    "plt.show()\n"
   ]
  },
  {
   "attachments": {},
   "cell_type": "markdown",
   "metadata": {},
   "source": [
    "4-) Decision Trees:"
   ]
  },
  {
   "cell_type": "code",
   "execution_count": 17,
   "metadata": {},
   "outputs": [],
   "source": [
    "from sklearn.tree import DecisionTreeClassifier\n",
    "from sklearn.model_selection import train_test_split\n",
    "\n",
    "# Load the data\n",
    "# X, y = # load your data here\n",
    "\n",
    "# Split the data into training and testing sets\n",
    "X3_train, X3_test, y3_train, y3_test = train_test_split(X, y, test_size=0.2, random_state=42)\n",
    "\n",
    "# Initialize the Decision Tree classifier\n",
    "dt = DecisionTreeClassifier(random_state=42)\n",
    "\n",
    "# Fit the classifier to the training data\n",
    "dt.fit(X3_train, y3_train)\n",
    "\n",
    "# Predict the labels for the test data\n",
    "y3_pred = dt.predict(X3_test)\n"
   ]
  },
  {
   "cell_type": "code",
   "execution_count": null,
   "metadata": {},
   "outputs": [],
   "source": [
    "y3_pred"
   ]
  },
  {
   "cell_type": "code",
   "execution_count": 18,
   "metadata": {},
   "outputs": [
    {
     "data": {
      "image/png": "[encoded data removed]",
      "text/plain": [
       "<Figure size 640x480 with 2 Axes>"
      ]
     },
     "metadata": {},
     "output_type": "display_data"
    }
   ],
   "source": [
    "import seaborn as sns\n",
    "import matplotlib.pyplot as plt\n",
    "\n",
    "# Create the confusion matrix\n",
    "cnf_matrix = confusion_matrix(y3_test, y3_pred)\n",
    "\n",
    "# Visualize the confusion matrix using a heatmap\n",
    "sns.heatmap(cnf_matrix, annot=True, cmap='Blues', fmt='d')\n",
    "plt.ylabel('True label')\n",
    "plt.xlabel('Predicted label')\n",
    "plt.show()\n"
   ]
  },
  {
   "attachments": {},
   "cell_type": "markdown",
   "metadata": {},
   "source": [
    "5-) Random Forest:"
   ]
  },
  {
   "cell_type": "code",
   "execution_count": null,
   "metadata": {},
   "outputs": [],
   "source": [
    "import numpy as np\n",
    "from sklearn.ensemble import RandomForestClassifier\n",
    "from sklearn.model_selection import train_test_split\n",
    "from sklearn.metrics import classification_report, confusion_matrix\n",
    "\n",
    "# load your data here\n",
    "X_train, X_test, y_train, y_test = train_test_split(features, labels, test_size=0.2, random_state=0)\n",
    "\n",
    "# create an instance of the Random Forest classifier\n",
    "clf = RandomForestClassifier(n_estimators=100, random_state=0)\n",
    "\n",
    "# train the classifier\n",
    "clf.fit(X_train, y_train)\n",
    "\n",
    "# predict the test set\n",
    "y_pred = clf.predict(X_test)\n",
    "\n",
    "# evaluate the performance of the classifier\n",
    "print(\"Classification report:\\n\", classification_report(y_test, y_pred))\n",
    "print(\"Confusion matrix:\\n\", confusion_matrix(y_test, y_pred))\n"
   ]
  }
 ],
 "metadata": {
  "kernelspec": {
   "display_name": "Python 3",
   "language": "python",
   "name": "python3"
  },
  "language_info": {
   "codemirror_mode": {
    "name": "ipython",
    "version": 3
   },
   "file_extension": ".py",
   "mimetype": "text/x-python",
   "name": "python",
   "nbconvert_exporter": "python",
   "pygments_lexer": "ipython3",
   "version": "3.10.10"
  },
  "orig_nbformat": 4,
  "vscode": {
   "interpreter": {
    "hash": "a2c1ef6884336fef68202803dedbd4bddca7a1e0a29b119f3c0f6e93c7ce4327"
   }
  }
 },
 "nbformat": 4,
 "nbformat_minor": 2
}
